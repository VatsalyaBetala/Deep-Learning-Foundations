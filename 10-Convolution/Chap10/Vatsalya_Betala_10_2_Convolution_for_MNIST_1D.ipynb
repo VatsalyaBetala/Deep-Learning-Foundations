{
  "cells": [
    {
      "cell_type": "markdown",
      "metadata": {
        "id": "view-in-github"
      },
      "source": [
        "<a href=\"https://colab.research.google.com/github/udlbook/udlbook/blob/main/Notebooks/Chap10/10_2_Convolution_for_MNIST_1D.ipynb\" target=\"_parent\"><img src=\"https://colab.research.google.com/assets/colab-badge.svg\" alt=\"Open In Colab\"/></a>"
      ]
    },
    {
      "cell_type": "markdown",
      "metadata": {
        "id": "t9vk9Elugvmi"
      },
      "source": [
        "# **Notebook 10.2: Convolution for MNIST-1D**\n",
        "\n",
        "This notebook investigates a 1D convolutional network for MNIST-1D as in figure 10.7 and 10.8a.\n",
        "\n",
        "Work through the cells below, running each cell in turn. In various places you will see the words \"TO DO\". Follow the instructions at these places and make predictions about what is going to happen or write code to complete the functions.\n",
        "\n",
        "Contact me at udlbookmail@gmail.com if you find any mistakes or have any suggestions.\n",
        "\n"
      ]
    },
    {
      "cell_type": "code",
      "execution_count": 1,
      "metadata": {
        "id": "D5yLObtZCi9J",
        "colab": {
          "base_uri": "https://localhost:8080/"
        },
        "outputId": "c3057d0b-83cd-4499-9132-64a906571bf0"
      },
      "outputs": [
        {
          "output_type": "stream",
          "name": "stdout",
          "text": [
            "Collecting git+https://github.com/greydanus/mnist1d\n",
            "  Cloning https://github.com/greydanus/mnist1d to /tmp/pip-req-build-mhv1wa6h\n",
            "  Running command git clone --filter=blob:none --quiet https://github.com/greydanus/mnist1d /tmp/pip-req-build-mhv1wa6h\n",
            "  Resolved https://github.com/greydanus/mnist1d to commit dc46206f1e1ad7249c96e3042efca0955a6b5d35\n",
            "  Installing build dependencies ... \u001b[?25l\u001b[?25hdone\n",
            "  Getting requirements to build wheel ... \u001b[?25l\u001b[?25hdone\n",
            "  Preparing metadata (pyproject.toml) ... \u001b[?25l\u001b[?25hdone\n",
            "Requirement already satisfied: requests in /usr/local/lib/python3.10/dist-packages (from mnist1d==0.0.2.post10) (2.32.3)\n",
            "Requirement already satisfied: numpy in /usr/local/lib/python3.10/dist-packages (from mnist1d==0.0.2.post10) (1.26.4)\n",
            "Requirement already satisfied: matplotlib in /usr/local/lib/python3.10/dist-packages (from mnist1d==0.0.2.post10) (3.7.1)\n",
            "Requirement already satisfied: scipy in /usr/local/lib/python3.10/dist-packages (from mnist1d==0.0.2.post10) (1.13.1)\n",
            "Requirement already satisfied: contourpy>=1.0.1 in /usr/local/lib/python3.10/dist-packages (from matplotlib->mnist1d==0.0.2.post10) (1.2.1)\n",
            "Requirement already satisfied: cycler>=0.10 in /usr/local/lib/python3.10/dist-packages (from matplotlib->mnist1d==0.0.2.post10) (0.12.1)\n",
            "Requirement already satisfied: fonttools>=4.22.0 in /usr/local/lib/python3.10/dist-packages (from matplotlib->mnist1d==0.0.2.post10) (4.53.1)\n",
            "Requirement already satisfied: kiwisolver>=1.0.1 in /usr/local/lib/python3.10/dist-packages (from matplotlib->mnist1d==0.0.2.post10) (1.4.5)\n",
            "Requirement already satisfied: packaging>=20.0 in /usr/local/lib/python3.10/dist-packages (from matplotlib->mnist1d==0.0.2.post10) (24.1)\n",
            "Requirement already satisfied: pillow>=6.2.0 in /usr/local/lib/python3.10/dist-packages (from matplotlib->mnist1d==0.0.2.post10) (9.4.0)\n",
            "Requirement already satisfied: pyparsing>=2.3.1 in /usr/local/lib/python3.10/dist-packages (from matplotlib->mnist1d==0.0.2.post10) (3.1.4)\n",
            "Requirement already satisfied: python-dateutil>=2.7 in /usr/local/lib/python3.10/dist-packages (from matplotlib->mnist1d==0.0.2.post10) (2.8.2)\n",
            "Requirement already satisfied: charset-normalizer<4,>=2 in /usr/local/lib/python3.10/dist-packages (from requests->mnist1d==0.0.2.post10) (3.3.2)\n",
            "Requirement already satisfied: idna<4,>=2.5 in /usr/local/lib/python3.10/dist-packages (from requests->mnist1d==0.0.2.post10) (3.8)\n",
            "Requirement already satisfied: urllib3<3,>=1.21.1 in /usr/local/lib/python3.10/dist-packages (from requests->mnist1d==0.0.2.post10) (2.0.7)\n",
            "Requirement already satisfied: certifi>=2017.4.17 in /usr/local/lib/python3.10/dist-packages (from requests->mnist1d==0.0.2.post10) (2024.7.4)\n",
            "Requirement already satisfied: six>=1.5 in /usr/local/lib/python3.10/dist-packages (from python-dateutil>=2.7->matplotlib->mnist1d==0.0.2.post10) (1.16.0)\n",
            "Building wheels for collected packages: mnist1d\n",
            "  Building wheel for mnist1d (pyproject.toml) ... \u001b[?25l\u001b[?25hdone\n",
            "  Created wheel for mnist1d: filename=mnist1d-0.0.2.post10-py3-none-any.whl size=14564 sha256=d73ab4267899f5e9669fe1263947ea0d04c627d34ad4c7350c52a0124ff5dd78\n",
            "  Stored in directory: /tmp/pip-ephem-wheel-cache-z1mcym24/wheels/41/95/55/45fcf7d38cfa97e35682da6c5017d4513729131326ce935371\n",
            "Successfully built mnist1d\n",
            "Installing collected packages: mnist1d\n",
            "Successfully installed mnist1d-0.0.2.post10\n"
          ]
        }
      ],
      "source": [
        "# Run this if you're in a Colab to install MNIST 1D repository\n",
        "!pip install git+https://github.com/greydanus/mnist1d"
      ]
    },
    {
      "cell_type": "code",
      "execution_count": 2,
      "metadata": {
        "id": "YrXWAH7sUWvU"
      },
      "outputs": [],
      "source": [
        "import numpy as np\n",
        "import os\n",
        "import torch, torch.nn as nn\n",
        "from torch.utils.data import TensorDataset, DataLoader\n",
        "from torch.optim.lr_scheduler import StepLR\n",
        "import matplotlib.pyplot as plt\n",
        "import mnist1d\n",
        "import random"
      ]
    },
    {
      "cell_type": "code",
      "execution_count": 3,
      "metadata": {
        "id": "twI72ZCrCt5z",
        "colab": {
          "base_uri": "https://localhost:8080/"
        },
        "outputId": "af8d7a93-2393-4e7d-ec35-10579a7a7d66"
      },
      "outputs": [
        {
          "output_type": "stream",
          "name": "stdout",
          "text": [
            "Did or could not load data from ./mnist1d_data.pkl. Rebuilding dataset...\n",
            "Examples in training set: 4000\n",
            "Examples in test set: 1000\n",
            "Length of each example: 40\n"
          ]
        }
      ],
      "source": [
        "args = mnist1d.data.get_dataset_args()\n",
        "data = mnist1d.data.get_dataset(args, path='./mnist1d_data.pkl', download=False, regenerate=False)\n",
        "\n",
        "# The training and test input and outputs are in\n",
        "# data['x'], data['y'], data['x_test'], and data['y_test']\n",
        "print(\"Examples in training set: {}\".format(len(data['y'])))\n",
        "print(\"Examples in test set: {}\".format(len(data['y_test'])))\n",
        "print(\"Length of each example: {}\".format(data['x'].shape[-1]))"
      ]
    },
    {
      "cell_type": "code",
      "execution_count": 4,
      "metadata": {
        "id": "8bKADvLHbiV5",
        "colab": {
          "base_uri": "https://localhost:8080/"
        },
        "outputId": "132d8e8b-0c6b-4efb-ae25-268f7ede89b8"
      },
      "outputs": [
        {
          "output_type": "stream",
          "name": "stdout",
          "text": [
            "Train data: 4000 examples (columns), each of which has 40 dimensions (rows)\n",
            "Validation data: 1000 examples (columns), each of which has 40 dimensions (rows)\n"
          ]
        }
      ],
      "source": [
        "# Load in the data\n",
        "train_data_x = data['x'].transpose()\n",
        "train_data_y = data['y']\n",
        "val_data_x = data['x_test'].transpose()\n",
        "val_data_y = data['y_test']\n",
        "# Print out sizes\n",
        "print(\"Train data: %d examples (columns), each of which has %d dimensions (rows)\"%((train_data_x.shape[1],train_data_x.shape[0])))\n",
        "print(\"Validation data: %d examples (columns), each of which has %d dimensions (rows)\"%((val_data_x.shape[1],val_data_x.shape[0])))"
      ]
    },
    {
      "cell_type": "markdown",
      "metadata": {
        "id": "_sFvRDGrl4qe"
      },
      "source": [
        "Define the network"
      ]
    },
    {
      "cell_type": "code",
      "execution_count": 6,
      "metadata": {
        "id": "FslroPJJffrh"
      },
      "outputs": [],
      "source": [
        "# There are 40 input dimensions and 10 output dimensions for this data\n",
        "# The inputs correspond to the 40 offsets in the MNIST1D template.\n",
        "D_i = 40\n",
        "# The outputs correspond to the 10 digits\n",
        "D_o = 10\n",
        "\n",
        "# TODO Create a model with the following layers\n",
        "# 1. Convolutional layer, (input=length 40 and 1 channel, kernel size 3, stride 2, padding=\"valid\", 15 output channels )\n",
        "# 2. ReLU\n",
        "# 3. Convolutional layer, (input=length 19 and 15 channels, kernel size 3, stride 2, padding=\"valid\", 15 output channels )\n",
        "# 4. ReLU\n",
        "# 5. Convolutional layer, (input=length 9 and 15 channels, kernel size 3, stride 2, padding=\"valid\", 15 output channels)\n",
        "# 6. ReLU\n",
        "# 7. Flatten (converts 4x15) to length 60\n",
        "# 8. Linear layer (input size = 60, output size = 10)\n",
        "# References:\n",
        "# https://pytorch.org/docs/1.13/generated/torch.nn.Conv1d.html?highlight=conv1d#torch.nn.Conv1d\n",
        "# https://pytorch.org/docs/stable/generated/torch.nn.Flatten.html\n",
        "# https://pytorch.org/docs/1.13/generated/torch.nn.Linear.html?highlight=linear#torch.nn.Linear\n",
        "\n",
        "# NOTE THAT THE CONVOLUTIONAL LAYERS NEED TO TAKE THE NUMBER OF INPUT CHANNELS AS A PARAMETER\n",
        "# AND NOT THE INPUT SIZE.\n",
        "\n",
        "# Replace the following function:\n",
        "model = nn.Sequential(\n",
        "    nn.Conv1d(in_channels=1, out_channels=15, kernel_size=3, stride=2, padding=0),  # Layer 1: Conv1d\n",
        "    nn.ReLU(),  # Layer 2: ReLU\n",
        "    nn.Conv1d(in_channels=15, out_channels=15, kernel_size=3, stride=2, padding=0),  # Layer 3: Conv1d\n",
        "    nn.ReLU(),  # Layer 4: ReLU\n",
        "    nn.Conv1d(in_channels=15, out_channels=15, kernel_size=3, stride=2, padding=0),  # Layer 5: Conv1d\n",
        "    nn.ReLU(),  # Layer 6: ReLU\n",
        "    nn.Flatten(),  # Layer 7: Flatten\n",
        "    nn.Linear(60, 10)  # Layer 8: Linear\n",
        ")\n",
        "\n"
      ]
    },
    {
      "cell_type": "code",
      "execution_count": 7,
      "metadata": {
        "id": "YgLaex1pfhqz"
      },
      "outputs": [],
      "source": [
        "# He initialization of weights\n",
        "def weights_init(layer_in):\n",
        "  if isinstance(layer_in, nn.Linear):\n",
        "    nn.init.kaiming_uniform_(layer_in.weight)\n",
        "    layer_in.bias.data.fill_(0.0)"
      ]
    },
    {
      "cell_type": "code",
      "execution_count": 8,
      "metadata": {
        "id": "NYw8I_3mmX5c",
        "colab": {
          "base_uri": "https://localhost:8080/",
          "height": 1000
        },
        "outputId": "408391ce-f66b-410d-a912-b6234f2a5703"
      },
      "outputs": [
        {
          "output_type": "stream",
          "name": "stdout",
          "text": [
            "Epoch     0, train loss 1.978314, train error 74.22,  val loss 1.996271, percent error 76.60\n",
            "Epoch     1, train loss 1.543738, train error 62.80,  val loss 1.566958, percent error 65.10\n",
            "Epoch     2, train loss 1.382413, train error 55.78,  val loss 1.395938, percent error 58.10\n",
            "Epoch     3, train loss 1.268012, train error 51.62,  val loss 1.266656, percent error 52.90\n",
            "Epoch     4, train loss 1.284901, train error 52.80,  val loss 1.293879, percent error 52.50\n",
            "Epoch     5, train loss 1.121052, train error 45.50,  val loss 1.153948, percent error 47.30\n",
            "Epoch     6, train loss 1.070507, train error 44.90,  val loss 1.095865, percent error 44.70\n",
            "Epoch     7, train loss 1.004175, train error 41.60,  val loss 1.039149, percent error 43.50\n",
            "Epoch     8, train loss 0.960743, train error 39.10,  val loss 1.002123, percent error 40.00\n",
            "Epoch     9, train loss 0.856598, train error 34.88,  val loss 0.916826, percent error 36.50\n",
            "Epoch    10, train loss 0.918591, train error 37.85,  val loss 0.990635, percent error 41.60\n",
            "Epoch    11, train loss 0.737929, train error 29.07,  val loss 0.808372, percent error 31.20\n",
            "Epoch    12, train loss 0.883367, train error 31.85,  val loss 0.985831, percent error 34.80\n",
            "Epoch    13, train loss 0.588230, train error 22.25,  val loss 0.670532, percent error 26.00\n",
            "Epoch    14, train loss 0.564442, train error 21.68,  val loss 0.648555, percent error 24.70\n",
            "Epoch    15, train loss 0.508294, train error 19.07,  val loss 0.614327, percent error 25.00\n",
            "Epoch    16, train loss 0.496122, train error 19.12,  val loss 0.624175, percent error 24.30\n",
            "Epoch    17, train loss 0.407931, train error 16.00,  val loss 0.536817, percent error 20.40\n",
            "Epoch    18, train loss 0.385575, train error 13.95,  val loss 0.486388, percent error 17.40\n",
            "Epoch    19, train loss 0.345512, train error 12.45,  val loss 0.451210, percent error 17.10\n",
            "Epoch    20, train loss 0.298160, train error 10.88,  val loss 0.433183, percent error 15.50\n",
            "Epoch    21, train loss 0.283703, train error 9.97,  val loss 0.433018, percent error 16.10\n",
            "Epoch    22, train loss 0.275501, train error 9.70,  val loss 0.417757, percent error 13.80\n",
            "Epoch    23, train loss 0.287737, train error 10.35,  val loss 0.439195, percent error 15.20\n",
            "Epoch    24, train loss 0.248249, train error 8.93,  val loss 0.408059, percent error 13.00\n",
            "Epoch    25, train loss 0.243649, train error 8.75,  val loss 0.418365, percent error 13.40\n",
            "Epoch    26, train loss 0.228167, train error 7.75,  val loss 0.397472, percent error 13.60\n",
            "Epoch    27, train loss 0.242777, train error 7.97,  val loss 0.415558, percent error 13.20\n",
            "Epoch    28, train loss 0.212351, train error 7.12,  val loss 0.383319, percent error 11.40\n",
            "Epoch    29, train loss 0.196568, train error 6.43,  val loss 0.365701, percent error 11.20\n",
            "Epoch    30, train loss 0.192854, train error 6.32,  val loss 0.369644, percent error 11.80\n",
            "Epoch    31, train loss 0.176674, train error 5.70,  val loss 0.353819, percent error 11.40\n",
            "Epoch    32, train loss 0.158406, train error 5.12,  val loss 0.338332, percent error 10.50\n",
            "Epoch    33, train loss 0.166247, train error 5.12,  val loss 0.341714, percent error 11.10\n",
            "Epoch    34, train loss 0.159195, train error 5.55,  val loss 0.336667, percent error 12.20\n",
            "Epoch    35, train loss 0.148045, train error 4.88,  val loss 0.353110, percent error 10.60\n",
            "Epoch    36, train loss 0.135002, train error 4.43,  val loss 0.346140, percent error 12.00\n",
            "Epoch    37, train loss 0.138512, train error 4.40,  val loss 0.348032, percent error 9.90\n",
            "Epoch    38, train loss 0.125146, train error 3.53,  val loss 0.341552, percent error 10.50\n",
            "Epoch    39, train loss 0.140196, train error 4.82,  val loss 0.336377, percent error 11.00\n",
            "Epoch    40, train loss 0.107948, train error 3.25,  val loss 0.319391, percent error 9.70\n",
            "Epoch    41, train loss 0.097621, train error 2.75,  val loss 0.311825, percent error 9.70\n",
            "Epoch    42, train loss 0.102954, train error 2.82,  val loss 0.317106, percent error 10.10\n",
            "Epoch    43, train loss 0.094485, train error 2.57,  val loss 0.319964, percent error 9.60\n",
            "Epoch    44, train loss 0.104234, train error 3.43,  val loss 0.328404, percent error 10.10\n",
            "Epoch    45, train loss 0.088192, train error 2.60,  val loss 0.317966, percent error 10.00\n",
            "Epoch    46, train loss 0.092000, train error 2.40,  val loss 0.333560, percent error 9.30\n",
            "Epoch    47, train loss 0.086341, train error 2.10,  val loss 0.321283, percent error 9.40\n",
            "Epoch    48, train loss 0.085220, train error 2.28,  val loss 0.320857, percent error 9.40\n",
            "Epoch    49, train loss 0.081177, train error 1.90,  val loss 0.313745, percent error 9.60\n",
            "Epoch    50, train loss 0.082476, train error 2.10,  val loss 0.317578, percent error 9.40\n",
            "Epoch    51, train loss 0.076742, train error 1.80,  val loss 0.325590, percent error 8.70\n",
            "Epoch    52, train loss 0.078215, train error 2.03,  val loss 0.320171, percent error 9.30\n",
            "Epoch    53, train loss 0.078768, train error 2.03,  val loss 0.326799, percent error 9.80\n",
            "Epoch    54, train loss 0.073579, train error 1.75,  val loss 0.319762, percent error 9.10\n",
            "Epoch    55, train loss 0.077741, train error 2.20,  val loss 0.325678, percent error 9.40\n",
            "Epoch    56, train loss 0.068899, train error 1.65,  val loss 0.328654, percent error 9.40\n",
            "Epoch    57, train loss 0.067449, train error 1.57,  val loss 0.324299, percent error 8.90\n",
            "Epoch    58, train loss 0.072987, train error 1.88,  val loss 0.331944, percent error 9.80\n",
            "Epoch    59, train loss 0.064902, train error 1.60,  val loss 0.320595, percent error 9.50\n",
            "Epoch    60, train loss 0.063392, train error 1.45,  val loss 0.329185, percent error 9.10\n",
            "Epoch    61, train loss 0.060928, train error 1.18,  val loss 0.323376, percent error 9.00\n",
            "Epoch    62, train loss 0.059683, train error 1.25,  val loss 0.322859, percent error 9.10\n",
            "Epoch    63, train loss 0.059748, train error 1.22,  val loss 0.321793, percent error 9.30\n",
            "Epoch    64, train loss 0.058179, train error 1.18,  val loss 0.323664, percent error 9.30\n",
            "Epoch    65, train loss 0.059961, train error 1.30,  val loss 0.328851, percent error 9.00\n",
            "Epoch    66, train loss 0.057607, train error 1.15,  val loss 0.332303, percent error 9.40\n",
            "Epoch    67, train loss 0.059031, train error 1.28,  val loss 0.332105, percent error 9.40\n",
            "Epoch    68, train loss 0.061463, train error 1.43,  val loss 0.341068, percent error 9.60\n",
            "Epoch    69, train loss 0.056619, train error 1.10,  val loss 0.341391, percent error 9.30\n",
            "Epoch    70, train loss 0.055801, train error 1.15,  val loss 0.337928, percent error 9.10\n",
            "Epoch    71, train loss 0.054714, train error 1.20,  val loss 0.334842, percent error 9.50\n",
            "Epoch    72, train loss 0.054030, train error 1.10,  val loss 0.334302, percent error 9.70\n",
            "Epoch    73, train loss 0.054736, train error 1.10,  val loss 0.340044, percent error 9.20\n",
            "Epoch    74, train loss 0.052298, train error 0.97,  val loss 0.336951, percent error 9.30\n",
            "Epoch    75, train loss 0.051698, train error 1.05,  val loss 0.335944, percent error 9.10\n",
            "Epoch    76, train loss 0.052150, train error 1.07,  val loss 0.337272, percent error 10.00\n",
            "Epoch    77, train loss 0.051142, train error 1.00,  val loss 0.334303, percent error 8.90\n",
            "Epoch    78, train loss 0.052611, train error 1.07,  val loss 0.340303, percent error 9.70\n",
            "Epoch    79, train loss 0.048872, train error 0.90,  val loss 0.338561, percent error 9.70\n",
            "Epoch    80, train loss 0.048608, train error 0.95,  val loss 0.341937, percent error 9.60\n",
            "Epoch    81, train loss 0.048424, train error 0.93,  val loss 0.341052, percent error 9.40\n",
            "Epoch    82, train loss 0.048663, train error 0.95,  val loss 0.340634, percent error 9.60\n",
            "Epoch    83, train loss 0.047783, train error 0.88,  val loss 0.342085, percent error 9.60\n",
            "Epoch    84, train loss 0.048501, train error 1.00,  val loss 0.342847, percent error 9.40\n",
            "Epoch    85, train loss 0.047668, train error 0.90,  val loss 0.343604, percent error 9.60\n",
            "Epoch    86, train loss 0.047009, train error 0.90,  val loss 0.343731, percent error 9.70\n",
            "Epoch    87, train loss 0.047006, train error 0.85,  val loss 0.340662, percent error 9.70\n",
            "Epoch    88, train loss 0.046547, train error 0.85,  val loss 0.343854, percent error 9.40\n",
            "Epoch    89, train loss 0.046122, train error 0.85,  val loss 0.344328, percent error 9.60\n",
            "Epoch    90, train loss 0.046339, train error 0.88,  val loss 0.340306, percent error 9.70\n",
            "Epoch    91, train loss 0.045691, train error 0.88,  val loss 0.342558, percent error 9.70\n",
            "Epoch    92, train loss 0.045757, train error 0.90,  val loss 0.347148, percent error 9.60\n",
            "Epoch    93, train loss 0.045101, train error 0.90,  val loss 0.345928, percent error 9.60\n",
            "Epoch    94, train loss 0.045010, train error 0.80,  val loss 0.348474, percent error 9.70\n",
            "Epoch    95, train loss 0.045038, train error 0.82,  val loss 0.347446, percent error 9.40\n",
            "Epoch    96, train loss 0.044462, train error 0.80,  val loss 0.347144, percent error 9.50\n",
            "Epoch    97, train loss 0.045311, train error 0.93,  val loss 0.347529, percent error 9.40\n",
            "Epoch    98, train loss 0.044869, train error 0.85,  val loss 0.346607, percent error 9.70\n",
            "Epoch    99, train loss 0.044601, train error 0.75,  val loss 0.350178, percent error 9.60\n"
          ]
        },
        {
          "output_type": "display_data",
          "data": {
            "text/plain": [
              "<Figure size 640x480 with 1 Axes>"
            ],
            "image/png": "[encoded data removed]"
          },
          "metadata": {}
        }
      ],
      "source": [
        "# choose cross entropy loss function (equation 5.24 in the loss notes)\n",
        "loss_function = nn.CrossEntropyLoss()\n",
        "# construct SGD optimizer and initialize learning rate and momentum\n",
        "optimizer = torch.optim.SGD(model.parameters(), lr = 0.05, momentum=0.9)\n",
        "# object that decreases learning rate by half every 20 epochs\n",
        "scheduler = StepLR(optimizer, step_size=20, gamma=0.5)\n",
        "# create 100 dummy data points and store in data loader class\n",
        "x_train = torch.tensor(train_data_x.transpose().astype('float32'))\n",
        "y_train = torch.tensor(train_data_y.astype('long')).long()\n",
        "x_val= torch.tensor(val_data_x.transpose().astype('float32'))\n",
        "y_val = torch.tensor(val_data_y.astype('long')).long()\n",
        "\n",
        "# load the data into a class that creates the batches\n",
        "data_loader = DataLoader(TensorDataset(x_train,y_train), batch_size=100, shuffle=True, worker_init_fn=np.random.seed(1))\n",
        "\n",
        "# Initialize model weights\n",
        "model.apply(weights_init)\n",
        "\n",
        "# loop over the dataset n_epoch times\n",
        "n_epoch = 100\n",
        "# store the loss and the % correct at each epoch\n",
        "losses_train = np.zeros((n_epoch))\n",
        "errors_train = np.zeros((n_epoch))\n",
        "losses_val = np.zeros((n_epoch))\n",
        "errors_val = np.zeros((n_epoch))\n",
        "\n",
        "for epoch in range(n_epoch):\n",
        "  # loop over batches\n",
        "  for i, data in enumerate(data_loader):\n",
        "    # retrieve inputs and labels for this batch\n",
        "    x_batch, y_batch = data\n",
        "    # zero the parameter gradients\n",
        "    optimizer.zero_grad()\n",
        "    # forward pass -- calculate model output\n",
        "    pred = model(x_batch[:,None,:])\n",
        "    # compute the loss\n",
        "    loss = loss_function(pred, y_batch)\n",
        "    # backward pass\n",
        "    loss.backward()\n",
        "    # SGD update\n",
        "    optimizer.step()\n",
        "\n",
        "  # Run whole dataset to get statistics -- normally wouldn't do this\n",
        "  pred_train = model(x_train[:,None,:])\n",
        "  pred_val = model(x_val[:,None,:])\n",
        "  _, predicted_train_class = torch.max(pred_train.data, 1)\n",
        "  _, predicted_val_class = torch.max(pred_val.data, 1)\n",
        "  errors_train[epoch] = 100 - 100 * (predicted_train_class == y_train).float().sum() / len(y_train)\n",
        "  errors_val[epoch]= 100 - 100 * (predicted_val_class == y_val).float().sum() / len(y_val)\n",
        "  losses_train[epoch] = loss_function(pred_train, y_train).item()\n",
        "  losses_val[epoch]= loss_function(pred_val, y_val).item()\n",
        "  print(f'Epoch {epoch:5d}, train loss {losses_train[epoch]:.6f}, train error {errors_train[epoch]:3.2f},  val loss {losses_val[epoch]:.6f}, percent error {errors_val[epoch]:3.2f}')\n",
        "\n",
        "  # tell scheduler to consider updating learning rate\n",
        "  scheduler.step()\n",
        "\n",
        "# Plot the results\n",
        "fig, ax = plt.subplots()\n",
        "ax.plot(errors_train,'r-',label='train')\n",
        "ax.plot(errors_val,'b-',label='validation')\n",
        "ax.set_ylim(0,100); ax.set_xlim(0,n_epoch)\n",
        "ax.set_xlabel('Epoch'); ax.set_ylabel('Error')\n",
        "ax.set_title('Part I: Validation Result %3.2f'%(errors_val[-1]))\n",
        "ax.legend()\n",
        "plt.show()"
      ]
    }
  ],
  "metadata": {
    "colab": {
      "provenance": []
    },
    "kernelspec": {
      "display_name": "Python 3",
      "name": "python3"
    },
    "language_info": {
      "codemirror_mode": {
        "name": "ipython",
        "version": 3
      },
      "file_extension": ".py",
      "mimetype": "text/x-python",
      "name": "python",
      "nbconvert_exporter": "python",
      "pygments_lexer": "ipython3",
      "version": "3.11.2"
    }
  },
  "nbformat": 4,
  "nbformat_minor": 0
}