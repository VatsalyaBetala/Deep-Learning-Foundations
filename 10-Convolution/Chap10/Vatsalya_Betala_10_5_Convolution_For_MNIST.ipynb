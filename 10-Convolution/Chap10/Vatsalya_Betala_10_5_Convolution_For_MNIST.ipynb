{
  "nbformat": 4,
  "nbformat_minor": 0,
  "metadata": {
    "colab": {
      "provenance": []
    },
    "kernelspec": {
      "name": "python3",
      "display_name": "Python 3"
    },
    "language_info": {
      "name": "python"
    }
  },
  "cells": [
    {
      "cell_type": "markdown",
      "metadata": {
        "id": "view-in-github"
      },
      "source": [
        "<a href=\"https://colab.research.google.com/github/udlbook/udlbook/blob/main/Notebooks/Chap10/10_5_Convolution_For_MNIST.ipynb\" target=\"_parent\"><img src=\"https://colab.research.google.com/assets/colab-badge.svg\" alt=\"Open In Colab\"/></a>"
      ]
    },
    {
      "cell_type": "markdown",
      "source": [
        "# **Notebook 10.5: Convolution for MNIST**\n",
        "\n",
        "This notebook builds a proper network for 2D convolution.  It works with the MNIST dataset (figure 15.15a), which was the original classic dataset for classifying images.  The network will take a 28x28 grayscale image and classify it into one of 10 classes representing a digit.\n",
        "\n",
        "The code is adapted from https://nextjournal.com/gkoehler/pytorch-mnist\n",
        "\n",
        "Work through the cells below, running each cell in turn. In various places you will see the words \"TO DO\". Follow the instructions at these places and make predictions about what is going to happen or write code to complete the functions.\n",
        "\n",
        "Contact me at udlbookmail@gmail.com if you find any mistakes or have any suggestions.\n"
      ],
      "metadata": {
        "id": "t9vk9Elugvmi"
      }
    },
    {
      "cell_type": "code",
      "source": [
        "import torch\n",
        "import torchvision\n",
        "import torch.nn as nn\n",
        "import torch.nn.functional as F\n",
        "import torch.optim as optim\n",
        "import matplotlib.pyplot as plt\n",
        "import random"
      ],
      "metadata": {
        "id": "YrXWAH7sUWvU"
      },
      "execution_count": 2,
      "outputs": []
    },
    {
      "cell_type": "code",
      "source": [
        "# Run this once to load the train and test data straight into a dataloader class\n",
        "# that will provide the batches\n",
        "batch_size_train = 64\n",
        "batch_size_test = 1000\n",
        "train_loader = torch.utils.data.DataLoader(\n",
        "  torchvision.datasets.MNIST('/files/', train=True, download=True,\n",
        "                             transform=torchvision.transforms.Compose([\n",
        "                               torchvision.transforms.ToTensor(),\n",
        "                               torchvision.transforms.Normalize(\n",
        "                                 (0.1307,), (0.3081,))\n",
        "                             ])),\n",
        "  batch_size=batch_size_train, shuffle=True)\n",
        "\n",
        "test_loader = torch.utils.data.DataLoader(\n",
        "  torchvision.datasets.MNIST('/files/', train=False, download=True,\n",
        "                             transform=torchvision.transforms.Compose([\n",
        "                               torchvision.transforms.ToTensor(),\n",
        "                               torchvision.transforms.Normalize(\n",
        "                                 (0.1307,), (0.3081,))\n",
        "                             ])),\n",
        "  batch_size=batch_size_test, shuffle=True)"
      ],
      "metadata": {
        "id": "wScBGXXFVadm",
        "colab": {
          "base_uri": "https://localhost:8080/"
        },
        "outputId": "f2c8db15-874b-46f6-b640-b269428e82d6"
      },
      "execution_count": 3,
      "outputs": [
        {
          "output_type": "stream",
          "name": "stdout",
          "text": [
            "Downloading http://yann.lecun.com/exdb/mnist/train-images-idx3-ubyte.gz\n",
            "Failed to download (trying next):\n",
            "HTTP Error 403: Forbidden\n",
            "\n",
            "Downloading https://ossci-datasets.s3.amazonaws.com/mnist/train-images-idx3-ubyte.gz\n",
            "Downloading https://ossci-datasets.s3.amazonaws.com/mnist/train-images-idx3-ubyte.gz to /files/MNIST/raw/train-images-idx3-ubyte.gz\n"
          ]
        },
        {
          "output_type": "stream",
          "name": "stderr",
          "text": [
            "100%|██████████| 9912422/9912422 [00:00<00:00, 19715658.94it/s]\n"
          ]
        },
        {
          "output_type": "stream",
          "name": "stdout",
          "text": [
            "Extracting /files/MNIST/raw/train-images-idx3-ubyte.gz to /files/MNIST/raw\n",
            "\n",
            "Downloading http://yann.lecun.com/exdb/mnist/train-labels-idx1-ubyte.gz\n",
            "Failed to download (trying next):\n",
            "HTTP Error 403: Forbidden\n",
            "\n",
            "Downloading https://ossci-datasets.s3.amazonaws.com/mnist/train-labels-idx1-ubyte.gz\n",
            "Downloading https://ossci-datasets.s3.amazonaws.com/mnist/train-labels-idx1-ubyte.gz to /files/MNIST/raw/train-labels-idx1-ubyte.gz\n"
          ]
        },
        {
          "output_type": "stream",
          "name": "stderr",
          "text": [
            "100%|██████████| 28881/28881 [00:00<00:00, 608144.50it/s]\n"
          ]
        },
        {
          "output_type": "stream",
          "name": "stdout",
          "text": [
            "Extracting /files/MNIST/raw/train-labels-idx1-ubyte.gz to /files/MNIST/raw\n",
            "\n",
            "Downloading http://yann.lecun.com/exdb/mnist/t10k-images-idx3-ubyte.gz\n",
            "Failed to download (trying next):\n",
            "HTTP Error 403: Forbidden\n",
            "\n",
            "Downloading https://ossci-datasets.s3.amazonaws.com/mnist/t10k-images-idx3-ubyte.gz\n",
            "Downloading https://ossci-datasets.s3.amazonaws.com/mnist/t10k-images-idx3-ubyte.gz to /files/MNIST/raw/t10k-images-idx3-ubyte.gz\n"
          ]
        },
        {
          "output_type": "stream",
          "name": "stderr",
          "text": [
            "100%|██████████| 1648877/1648877 [00:01<00:00, 1093849.77it/s]\n"
          ]
        },
        {
          "output_type": "stream",
          "name": "stdout",
          "text": [
            "Extracting /files/MNIST/raw/t10k-images-idx3-ubyte.gz to /files/MNIST/raw\n",
            "\n",
            "Downloading http://yann.lecun.com/exdb/mnist/t10k-labels-idx1-ubyte.gz\n",
            "Failed to download (trying next):\n",
            "HTTP Error 403: Forbidden\n",
            "\n",
            "Downloading https://ossci-datasets.s3.amazonaws.com/mnist/t10k-labels-idx1-ubyte.gz\n",
            "Downloading https://ossci-datasets.s3.amazonaws.com/mnist/t10k-labels-idx1-ubyte.gz to /files/MNIST/raw/t10k-labels-idx1-ubyte.gz\n"
          ]
        },
        {
          "output_type": "stream",
          "name": "stderr",
          "text": [
            "100%|██████████| 4542/4542 [00:00<00:00, 3064263.92it/s]"
          ]
        },
        {
          "output_type": "stream",
          "name": "stdout",
          "text": [
            "Extracting /files/MNIST/raw/t10k-labels-idx1-ubyte.gz to /files/MNIST/raw\n",
            "\n"
          ]
        },
        {
          "output_type": "stream",
          "name": "stderr",
          "text": [
            "\n"
          ]
        }
      ]
    },
    {
      "cell_type": "code",
      "source": [
        "# Let's draw some of the training data\n",
        "examples = enumerate(test_loader)\n",
        "batch_idx, (example_data, example_targets) = next(examples)\n",
        "\n",
        "fig = plt.figure()\n",
        "for i in range(6):\n",
        "  plt.subplot(2,3,i+1)\n",
        "  plt.tight_layout()\n",
        "  plt.imshow(example_data[i][0], cmap='gray', interpolation='none')\n",
        "  plt.title(\"Ground Truth: {}\".format(example_targets[i]))\n",
        "  plt.xticks([])\n",
        "  plt.yticks([])\n",
        "plt.show()"
      ],
      "metadata": {
        "id": "8bKADvLHbiV5",
        "colab": {
          "base_uri": "https://localhost:8080/",
          "height": 438
        },
        "outputId": "4e1f9661-363b-403b-d48d-8d6e595427ae"
      },
      "execution_count": 4,
      "outputs": [
        {
          "output_type": "display_data",
          "data": {
            "text/plain": [
              "<Figure size 640x480 with 6 Axes>"
            ],
            "image/png": "[encoded data removed]"
          },
          "metadata": {}
        }
      ]
    },
    {
      "cell_type": "markdown",
      "source": [
        "Define the network.  This is a more typical way to define a network than the sequential structure.  We define a class for the network, and define the parameters in the constructor.  Then we use a function called forward to actually run the network.  It's easy to see how you might use residual connections in this format."
      ],
      "metadata": {
        "id": "_sFvRDGrl4qe"
      }
    },
    {
      "cell_type": "code",
      "source": [
        "from os import X_OK\n",
        "# TODO Change this class to implement\n",
        "# 1. A valid convolution with kernel size 5, 1 input channel and 10 output channels\n",
        "# 2. A max pooling operation over a 2x2 area\n",
        "# 3. A Relu\n",
        "# 4. A valid convolution with kernel size 5, 10 input channels and 20 output channels\n",
        "# 5. A 2D Dropout layer\n",
        "# 6. A max pooling operation over a 2x2 area\n",
        "# 7. A relu\n",
        "# 8. A flattening operation\n",
        "# 9. A fully connected layer mapping from (whatever dimensions we are at-- find out using .shape) to 50\n",
        "# 10. A ReLU\n",
        "# 11. A fully connected layer mapping from 50 to 10 dimensions\n",
        "# 12. A softmax function.\n",
        "\n",
        "# Replace this class which implements a minimal network (which still does okay)\n",
        "import torch\n",
        "import torch.nn as nn\n",
        "import torch.nn.functional as F\n",
        "\n",
        "class Net(nn.Module):\n",
        "    def __init__(self):\n",
        "        super(Net, self).__init__()\n",
        "        # Layer 1: Valid convolution with 1 input channel and 10 output channels, kernel size 5\n",
        "        self.conv1 = nn.Conv2d(1, 10, kernel_size=5, padding=0)\n",
        "        # Layer 2: Max pooling over a 2x2 area\n",
        "        self.pool1 = nn.MaxPool2d(2, 2)\n",
        "        # Layer 3: ReLU activation\n",
        "        # No need for additional declaration, will use F.relu()\n",
        "\n",
        "        # Layer 4: Valid convolution with 10 input channels and 20 output channels, kernel size 5\n",
        "        self.conv2 = nn.Conv2d(10, 20, kernel_size=5, padding=0)\n",
        "        # Layer 5: 2D Dropout\n",
        "        self.drop = nn.Dropout2d()\n",
        "        # Layer 6: Max pooling over a 2x2 area\n",
        "        self.pool2 = nn.MaxPool2d(2, 2)\n",
        "        # Layer 7: ReLU activation\n",
        "        # Again, will use F.relu()\n",
        "\n",
        "        # Layer 8: Flattening operation\n",
        "        # No specific layer is needed, will use .view() or .flatten()\n",
        "\n",
        "        # Layer 9: Fully connected layer, dynamically determine input size\n",
        "        # The input size needs to be calculated dynamically in the forward method\n",
        "        self.fc1 = nn.Linear(320, 50)  # We will calculate the correct size later\n",
        "        # Layer 10: ReLU activation\n",
        "\n",
        "        # Layer 11: Fully connected layer mapping from 50 to 10 dimensions\n",
        "        self.fc2 = nn.Linear(50, 10)\n",
        "        # Layer 12: Softmax function\n",
        "        # Use F.log_softmax in the forward method due to better numerical stability\n",
        "\n",
        "    def forward(self, x):\n",
        "        x = self.conv1(x)\n",
        "        x = F.relu(x)\n",
        "        x = self.pool1(x)\n",
        "\n",
        "        x = self.conv2(x)\n",
        "        x = self.drop(x)\n",
        "        x = F.relu(x)\n",
        "        x = self.pool2(x)\n",
        "\n",
        "        x = torch.flatten(x, 1)\n",
        "        x = self.fc1(x)\n",
        "        x = F.relu(x)\n",
        "\n",
        "        x = self.fc2(x)\n",
        "        x = F.log_softmax(x, dim=1)\n",
        "        return x\n",
        "\n",
        "# Create a model instance to check it works and to calculate the correct input size for fc1\n",
        "model = Net()\n",
        "print(model)\n",
        "\n",
        "\n",
        "\n",
        "\n",
        "\n"
      ],
      "metadata": {
        "id": "EQkvw2KOPVl7",
        "colab": {
          "base_uri": "https://localhost:8080/"
        },
        "outputId": "f035d4b1-cb10-40f7-c376-15170a0d6700"
      },
      "execution_count": 11,
      "outputs": [
        {
          "output_type": "stream",
          "name": "stdout",
          "text": [
            "Net(\n",
            "  (conv1): Conv2d(1, 10, kernel_size=(5, 5), stride=(1, 1))\n",
            "  (pool1): MaxPool2d(kernel_size=2, stride=2, padding=0, dilation=1, ceil_mode=False)\n",
            "  (conv2): Conv2d(10, 20, kernel_size=(5, 5), stride=(1, 1))\n",
            "  (drop): Dropout2d(p=0.5, inplace=False)\n",
            "  (pool2): MaxPool2d(kernel_size=2, stride=2, padding=0, dilation=1, ceil_mode=False)\n",
            "  (fc1): Linear(in_features=320, out_features=50, bias=True)\n",
            "  (fc2): Linear(in_features=50, out_features=10, bias=True)\n",
            ")\n"
          ]
        }
      ]
    },
    {
      "cell_type": "code",
      "source": [
        "# He initialization of weights\n",
        "def weights_init(layer_in):\n",
        "  if isinstance(layer_in, nn.Linear):\n",
        "    nn.init.kaiming_uniform_(layer_in.weight)\n",
        "    layer_in.bias.data.fill_(0.0)"
      ],
      "metadata": {
        "id": "qWZtkCZcU_dg"
      },
      "execution_count": 12,
      "outputs": []
    },
    {
      "cell_type": "code",
      "source": [
        "# Create network\n",
        "model = Net()\n",
        "# Initialize model weights\n",
        "model.apply(weights_init)\n",
        "# Define optimizer\n",
        "optimizer = optim.SGD(model.parameters(), lr=0.01, momentum=0.5)"
      ],
      "metadata": {
        "id": "FslroPJJffrh"
      },
      "execution_count": 13,
      "outputs": []
    },
    {
      "cell_type": "code",
      "source": [
        "# Main training routine\n",
        "def train(epoch):\n",
        "  model.train()\n",
        "  # Get each\n",
        "  for batch_idx, (data, target) in enumerate(train_loader):\n",
        "    optimizer.zero_grad()\n",
        "    output = model(data)\n",
        "    loss = F.nll_loss(output, target)\n",
        "    loss.backward()\n",
        "    optimizer.step()\n",
        "    # Store results\n",
        "    if batch_idx % 10 == 0:\n",
        "      print('Train Epoch: {} [{}/{}]\\tLoss: {:.6f}'.format(\n",
        "        epoch, batch_idx * len(data), len(train_loader.dataset), loss.item()))"
      ],
      "metadata": {
        "id": "xKQd9PzkQ766"
      },
      "execution_count": 14,
      "outputs": []
    },
    {
      "cell_type": "code",
      "source": [
        "# Run on test data\n",
        "def test():\n",
        "  model.eval()\n",
        "  test_loss = 0\n",
        "  correct = 0\n",
        "  with torch.no_grad():\n",
        "    for data, target in test_loader:\n",
        "      output = model(data)\n",
        "      test_loss += F.nll_loss(output, target, size_average=False).item()\n",
        "      pred = output.data.max(1, keepdim=True)[1]\n",
        "      correct += pred.eq(target.data.view_as(pred)).sum()\n",
        "  test_loss /= len(test_loader.dataset)\n",
        "  print('\\nTest set: Avg. loss: {:.4f}, Accuracy: {}/{} ({:.0f}%)\\n'.format(\n",
        "    test_loss, correct, len(test_loader.dataset),\n",
        "    100. * correct / len(test_loader.dataset)))"
      ],
      "metadata": {
        "id": "Byn-f7qWRLxX"
      },
      "execution_count": 9,
      "outputs": []
    },
    {
      "cell_type": "code",
      "source": [
        "# Get initial performance\n",
        "test()\n",
        "# Train for three epochs\n",
        "n_epochs = 3\n",
        "for epoch in range(1, n_epochs + 1):\n",
        "  train(epoch)\n",
        "  test()"
      ],
      "metadata": {
        "id": "YgLaex1pfhqz",
        "colab": {
          "base_uri": "https://localhost:8080/"
        },
        "outputId": "0d987f9b-0607-4bef-e933-01319aa5a96b"
      },
      "execution_count": 15,
      "outputs": [
        {
          "output_type": "stream",
          "name": "stderr",
          "text": [
            "/usr/local/lib/python3.10/dist-packages/torch/nn/_reduction.py:42: UserWarning: size_average and reduce args will be deprecated, please use reduction='sum' instead.\n",
            "  warnings.warn(warning.format(ret))\n"
          ]
        },
        {
          "output_type": "stream",
          "name": "stdout",
          "text": [
            "\n",
            "Test set: Avg. loss: 2.3920, Accuracy: 1294/10000 (13%)\n",
            "\n",
            "Train Epoch: 1 [0/60000]\tLoss: 2.578764\n",
            "Train Epoch: 1 [640/60000]\tLoss: 2.283682\n",
            "Train Epoch: 1 [1280/60000]\tLoss: 2.143554\n",
            "Train Epoch: 1 [1920/60000]\tLoss: 1.951907\n",
            "Train Epoch: 1 [2560/60000]\tLoss: 1.917135\n",
            "Train Epoch: 1 [3200/60000]\tLoss: 1.657015\n",
            "Train Epoch: 1 [3840/60000]\tLoss: 1.630055\n",
            "Train Epoch: 1 [4480/60000]\tLoss: 1.266340\n",
            "Train Epoch: 1 [5120/60000]\tLoss: 1.412329\n",
            "Train Epoch: 1 [5760/60000]\tLoss: 1.198225\n",
            "Train Epoch: 1 [6400/60000]\tLoss: 0.948449\n",
            "Train Epoch: 1 [7040/60000]\tLoss: 0.816548\n",
            "Train Epoch: 1 [7680/60000]\tLoss: 0.767683\n",
            "Train Epoch: 1 [8320/60000]\tLoss: 0.825134\n",
            "Train Epoch: 1 [8960/60000]\tLoss: 0.665676\n",
            "Train Epoch: 1 [9600/60000]\tLoss: 0.650244\n",
            "Train Epoch: 1 [10240/60000]\tLoss: 0.911151\n",
            "Train Epoch: 1 [10880/60000]\tLoss: 0.849392\n",
            "Train Epoch: 1 [11520/60000]\tLoss: 0.758802\n",
            "Train Epoch: 1 [12160/60000]\tLoss: 0.804809\n",
            "Train Epoch: 1 [12800/60000]\tLoss: 0.598199\n",
            "Train Epoch: 1 [13440/60000]\tLoss: 0.882875\n",
            "Train Epoch: 1 [14080/60000]\tLoss: 0.552586\n",
            "Train Epoch: 1 [14720/60000]\tLoss: 0.552710\n",
            "Train Epoch: 1 [15360/60000]\tLoss: 0.500391\n",
            "Train Epoch: 1 [16000/60000]\tLoss: 0.529479\n",
            "Train Epoch: 1 [16640/60000]\tLoss: 0.488176\n",
            "Train Epoch: 1 [17280/60000]\tLoss: 0.593416\n",
            "Train Epoch: 1 [17920/60000]\tLoss: 0.396674\n",
            "Train Epoch: 1 [18560/60000]\tLoss: 0.362377\n",
            "Train Epoch: 1 [19200/60000]\tLoss: 0.423207\n",
            "Train Epoch: 1 [19840/60000]\tLoss: 0.376979\n",
            "Train Epoch: 1 [20480/60000]\tLoss: 0.529281\n",
            "Train Epoch: 1 [21120/60000]\tLoss: 0.337371\n",
            "Train Epoch: 1 [21760/60000]\tLoss: 0.666442\n",
            "Train Epoch: 1 [22400/60000]\tLoss: 0.554484\n",
            "Train Epoch: 1 [23040/60000]\tLoss: 0.335000\n",
            "Train Epoch: 1 [23680/60000]\tLoss: 0.574496\n",
            "Train Epoch: 1 [24320/60000]\tLoss: 0.344334\n",
            "Train Epoch: 1 [24960/60000]\tLoss: 0.456057\n",
            "Train Epoch: 1 [25600/60000]\tLoss: 0.218439\n",
            "Train Epoch: 1 [26240/60000]\tLoss: 0.344154\n",
            "Train Epoch: 1 [26880/60000]\tLoss: 0.379431\n",
            "Train Epoch: 1 [27520/60000]\tLoss: 0.333387\n",
            "Train Epoch: 1 [28160/60000]\tLoss: 0.356279\n",
            "Train Epoch: 1 [28800/60000]\tLoss: 0.230017\n",
            "Train Epoch: 1 [29440/60000]\tLoss: 0.433007\n",
            "Train Epoch: 1 [30080/60000]\tLoss: 0.431690\n",
            "Train Epoch: 1 [30720/60000]\tLoss: 0.296070\n",
            "Train Epoch: 1 [31360/60000]\tLoss: 0.310283\n",
            "Train Epoch: 1 [32000/60000]\tLoss: 0.303952\n",
            "Train Epoch: 1 [32640/60000]\tLoss: 0.449827\n",
            "Train Epoch: 1 [33280/60000]\tLoss: 0.416264\n",
            "Train Epoch: 1 [33920/60000]\tLoss: 0.524443\n",
            "Train Epoch: 1 [34560/60000]\tLoss: 0.239116\n",
            "Train Epoch: 1 [35200/60000]\tLoss: 0.368548\n",
            "Train Epoch: 1 [35840/60000]\tLoss: 0.193857\n",
            "Train Epoch: 1 [36480/60000]\tLoss: 0.254556\n",
            "Train Epoch: 1 [37120/60000]\tLoss: 0.244611\n",
            "Train Epoch: 1 [37760/60000]\tLoss: 0.328347\n",
            "Train Epoch: 1 [38400/60000]\tLoss: 0.509061\n",
            "Train Epoch: 1 [39040/60000]\tLoss: 0.267057\n",
            "Train Epoch: 1 [39680/60000]\tLoss: 0.629132\n",
            "Train Epoch: 1 [40320/60000]\tLoss: 0.399404\n",
            "Train Epoch: 1 [40960/60000]\tLoss: 0.349939\n",
            "Train Epoch: 1 [41600/60000]\tLoss: 0.234417\n",
            "Train Epoch: 1 [42240/60000]\tLoss: 0.211176\n",
            "Train Epoch: 1 [42880/60000]\tLoss: 0.532377\n",
            "Train Epoch: 1 [43520/60000]\tLoss: 0.270118\n",
            "Train Epoch: 1 [44160/60000]\tLoss: 0.120033\n",
            "Train Epoch: 1 [44800/60000]\tLoss: 0.377260\n",
            "Train Epoch: 1 [45440/60000]\tLoss: 0.471693\n",
            "Train Epoch: 1 [46080/60000]\tLoss: 0.460401\n",
            "Train Epoch: 1 [46720/60000]\tLoss: 0.287593\n",
            "Train Epoch: 1 [47360/60000]\tLoss: 0.191202\n",
            "Train Epoch: 1 [48000/60000]\tLoss: 0.339177\n",
            "Train Epoch: 1 [48640/60000]\tLoss: 0.398065\n",
            "Train Epoch: 1 [49280/60000]\tLoss: 0.358535\n",
            "Train Epoch: 1 [49920/60000]\tLoss: 0.242028\n",
            "Train Epoch: 1 [50560/60000]\tLoss: 0.178768\n",
            "Train Epoch: 1 [51200/60000]\tLoss: 0.231758\n",
            "Train Epoch: 1 [51840/60000]\tLoss: 0.195809\n",
            "Train Epoch: 1 [52480/60000]\tLoss: 0.295786\n",
            "Train Epoch: 1 [53120/60000]\tLoss: 0.241672\n",
            "Train Epoch: 1 [53760/60000]\tLoss: 0.172378\n",
            "Train Epoch: 1 [54400/60000]\tLoss: 0.347950\n",
            "Train Epoch: 1 [55040/60000]\tLoss: 0.217673\n",
            "Train Epoch: 1 [55680/60000]\tLoss: 0.286351\n",
            "Train Epoch: 1 [56320/60000]\tLoss: 0.298077\n",
            "Train Epoch: 1 [56960/60000]\tLoss: 0.104615\n",
            "Train Epoch: 1 [57600/60000]\tLoss: 0.392050\n",
            "Train Epoch: 1 [58240/60000]\tLoss: 0.252286\n",
            "Train Epoch: 1 [58880/60000]\tLoss: 0.152427\n",
            "Train Epoch: 1 [59520/60000]\tLoss: 0.246955\n",
            "\n",
            "Test set: Avg. loss: 0.1462, Accuracy: 9562/10000 (96%)\n",
            "\n",
            "Train Epoch: 2 [0/60000]\tLoss: 0.350592\n",
            "Train Epoch: 2 [640/60000]\tLoss: 0.166747\n",
            "Train Epoch: 2 [1280/60000]\tLoss: 0.146696\n",
            "Train Epoch: 2 [1920/60000]\tLoss: 0.272839\n",
            "Train Epoch: 2 [2560/60000]\tLoss: 0.250072\n",
            "Train Epoch: 2 [3200/60000]\tLoss: 0.187825\n",
            "Train Epoch: 2 [3840/60000]\tLoss: 0.377350\n",
            "Train Epoch: 2 [4480/60000]\tLoss: 0.343984\n",
            "Train Epoch: 2 [5120/60000]\tLoss: 0.161900\n",
            "Train Epoch: 2 [5760/60000]\tLoss: 0.289931\n",
            "Train Epoch: 2 [6400/60000]\tLoss: 0.227007\n",
            "Train Epoch: 2 [7040/60000]\tLoss: 0.207552\n",
            "Train Epoch: 2 [7680/60000]\tLoss: 0.530272\n",
            "Train Epoch: 2 [8320/60000]\tLoss: 0.253961\n",
            "Train Epoch: 2 [8960/60000]\tLoss: 0.263423\n",
            "Train Epoch: 2 [9600/60000]\tLoss: 0.282521\n",
            "Train Epoch: 2 [10240/60000]\tLoss: 0.244558\n",
            "Train Epoch: 2 [10880/60000]\tLoss: 0.238300\n",
            "Train Epoch: 2 [11520/60000]\tLoss: 0.241470\n",
            "Train Epoch: 2 [12160/60000]\tLoss: 0.201566\n",
            "Train Epoch: 2 [12800/60000]\tLoss: 0.220599\n",
            "Train Epoch: 2 [13440/60000]\tLoss: 0.434395\n",
            "Train Epoch: 2 [14080/60000]\tLoss: 0.209752\n",
            "Train Epoch: 2 [14720/60000]\tLoss: 0.128782\n",
            "Train Epoch: 2 [15360/60000]\tLoss: 0.336259\n",
            "Train Epoch: 2 [16000/60000]\tLoss: 0.257146\n",
            "Train Epoch: 2 [16640/60000]\tLoss: 0.158776\n",
            "Train Epoch: 2 [17280/60000]\tLoss: 0.110591\n",
            "Train Epoch: 2 [17920/60000]\tLoss: 0.155522\n",
            "Train Epoch: 2 [18560/60000]\tLoss: 0.305271\n",
            "Train Epoch: 2 [19200/60000]\tLoss: 0.229609\n",
            "Train Epoch: 2 [19840/60000]\tLoss: 0.112251\n",
            "Train Epoch: 2 [20480/60000]\tLoss: 0.163130\n",
            "Train Epoch: 2 [21120/60000]\tLoss: 0.121137\n",
            "Train Epoch: 2 [21760/60000]\tLoss: 0.110793\n",
            "Train Epoch: 2 [22400/60000]\tLoss: 0.098771\n",
            "Train Epoch: 2 [23040/60000]\tLoss: 0.227215\n",
            "Train Epoch: 2 [23680/60000]\tLoss: 0.186294\n",
            "Train Epoch: 2 [24320/60000]\tLoss: 0.211265\n",
            "Train Epoch: 2 [24960/60000]\tLoss: 0.151364\n",
            "Train Epoch: 2 [25600/60000]\tLoss: 0.201218\n",
            "Train Epoch: 2 [26240/60000]\tLoss: 0.119568\n",
            "Train Epoch: 2 [26880/60000]\tLoss: 0.147160\n",
            "Train Epoch: 2 [27520/60000]\tLoss: 0.256819\n",
            "Train Epoch: 2 [28160/60000]\tLoss: 0.226411\n",
            "Train Epoch: 2 [28800/60000]\tLoss: 0.181501\n",
            "Train Epoch: 2 [29440/60000]\tLoss: 0.172681\n",
            "Train Epoch: 2 [30080/60000]\tLoss: 0.254402\n",
            "Train Epoch: 2 [30720/60000]\tLoss: 0.063195\n",
            "Train Epoch: 2 [31360/60000]\tLoss: 0.193484\n",
            "Train Epoch: 2 [32000/60000]\tLoss: 0.188924\n",
            "Train Epoch: 2 [32640/60000]\tLoss: 0.404442\n",
            "Train Epoch: 2 [33280/60000]\tLoss: 0.123636\n",
            "Train Epoch: 2 [33920/60000]\tLoss: 0.254544\n",
            "Train Epoch: 2 [34560/60000]\tLoss: 0.173900\n",
            "Train Epoch: 2 [35200/60000]\tLoss: 0.251354\n",
            "Train Epoch: 2 [35840/60000]\tLoss: 0.080220\n",
            "Train Epoch: 2 [36480/60000]\tLoss: 0.185484\n",
            "Train Epoch: 2 [37120/60000]\tLoss: 0.309641\n",
            "Train Epoch: 2 [37760/60000]\tLoss: 0.287614\n",
            "Train Epoch: 2 [38400/60000]\tLoss: 0.097204\n",
            "Train Epoch: 2 [39040/60000]\tLoss: 0.178723\n",
            "Train Epoch: 2 [39680/60000]\tLoss: 0.245299\n",
            "Train Epoch: 2 [40320/60000]\tLoss: 0.186404\n",
            "Train Epoch: 2 [40960/60000]\tLoss: 0.229115\n",
            "Train Epoch: 2 [41600/60000]\tLoss: 0.234334\n",
            "Train Epoch: 2 [42240/60000]\tLoss: 0.219918\n",
            "Train Epoch: 2 [42880/60000]\tLoss: 0.078563\n",
            "Train Epoch: 2 [43520/60000]\tLoss: 0.158023\n",
            "Train Epoch: 2 [44160/60000]\tLoss: 0.201201\n",
            "Train Epoch: 2 [44800/60000]\tLoss: 0.206925\n",
            "Train Epoch: 2 [45440/60000]\tLoss: 0.195548\n",
            "Train Epoch: 2 [46080/60000]\tLoss: 0.163778\n",
            "Train Epoch: 2 [46720/60000]\tLoss: 0.152507\n",
            "Train Epoch: 2 [47360/60000]\tLoss: 0.204515\n",
            "Train Epoch: 2 [48000/60000]\tLoss: 0.274265\n",
            "Train Epoch: 2 [48640/60000]\tLoss: 0.156214\n",
            "Train Epoch: 2 [49280/60000]\tLoss: 0.134282\n",
            "Train Epoch: 2 [49920/60000]\tLoss: 0.097814\n",
            "Train Epoch: 2 [50560/60000]\tLoss: 0.222751\n",
            "Train Epoch: 2 [51200/60000]\tLoss: 0.155256\n",
            "Train Epoch: 2 [51840/60000]\tLoss: 0.283863\n",
            "Train Epoch: 2 [52480/60000]\tLoss: 0.232343\n",
            "Train Epoch: 2 [53120/60000]\tLoss: 0.194293\n",
            "Train Epoch: 2 [53760/60000]\tLoss: 0.221379\n",
            "Train Epoch: 2 [54400/60000]\tLoss: 0.240513\n",
            "Train Epoch: 2 [55040/60000]\tLoss: 0.175649\n",
            "Train Epoch: 2 [55680/60000]\tLoss: 0.193575\n",
            "Train Epoch: 2 [56320/60000]\tLoss: 0.116370\n",
            "Train Epoch: 2 [56960/60000]\tLoss: 0.200780\n",
            "Train Epoch: 2 [57600/60000]\tLoss: 0.221866\n",
            "Train Epoch: 2 [58240/60000]\tLoss: 0.157212\n",
            "Train Epoch: 2 [58880/60000]\tLoss: 0.132746\n",
            "Train Epoch: 2 [59520/60000]\tLoss: 0.147595\n",
            "\n",
            "Test set: Avg. loss: 0.0961, Accuracy: 9696/10000 (97%)\n",
            "\n",
            "Train Epoch: 3 [0/60000]\tLoss: 0.215119\n",
            "Train Epoch: 3 [640/60000]\tLoss: 0.135463\n",
            "Train Epoch: 3 [1280/60000]\tLoss: 0.104469\n",
            "Train Epoch: 3 [1920/60000]\tLoss: 0.267580\n",
            "Train Epoch: 3 [2560/60000]\tLoss: 0.103789\n",
            "Train Epoch: 3 [3200/60000]\tLoss: 0.222953\n",
            "Train Epoch: 3 [3840/60000]\tLoss: 0.156991\n",
            "Train Epoch: 3 [4480/60000]\tLoss: 0.191842\n",
            "Train Epoch: 3 [5120/60000]\tLoss: 0.144653\n",
            "Train Epoch: 3 [5760/60000]\tLoss: 0.130584\n",
            "Train Epoch: 3 [6400/60000]\tLoss: 0.261760\n",
            "Train Epoch: 3 [7040/60000]\tLoss: 0.068172\n",
            "Train Epoch: 3 [7680/60000]\tLoss: 0.330246\n",
            "Train Epoch: 3 [8320/60000]\tLoss: 0.081167\n",
            "Train Epoch: 3 [8960/60000]\tLoss: 0.210770\n",
            "Train Epoch: 3 [9600/60000]\tLoss: 0.223044\n",
            "Train Epoch: 3 [10240/60000]\tLoss: 0.233634\n",
            "Train Epoch: 3 [10880/60000]\tLoss: 0.097767\n",
            "Train Epoch: 3 [11520/60000]\tLoss: 0.141369\n",
            "Train Epoch: 3 [12160/60000]\tLoss: 0.201940\n",
            "Train Epoch: 3 [12800/60000]\tLoss: 0.093231\n",
            "Train Epoch: 3 [13440/60000]\tLoss: 0.183830\n",
            "Train Epoch: 3 [14080/60000]\tLoss: 0.235124\n",
            "Train Epoch: 3 [14720/60000]\tLoss: 0.114349\n",
            "Train Epoch: 3 [15360/60000]\tLoss: 0.148443\n",
            "Train Epoch: 3 [16000/60000]\tLoss: 0.256650\n",
            "Train Epoch: 3 [16640/60000]\tLoss: 0.149428\n",
            "Train Epoch: 3 [17280/60000]\tLoss: 0.223765\n",
            "Train Epoch: 3 [17920/60000]\tLoss: 0.065626\n",
            "Train Epoch: 3 [18560/60000]\tLoss: 0.211764\n",
            "Train Epoch: 3 [19200/60000]\tLoss: 0.072725\n",
            "Train Epoch: 3 [19840/60000]\tLoss: 0.097717\n",
            "Train Epoch: 3 [20480/60000]\tLoss: 0.082008\n",
            "Train Epoch: 3 [21120/60000]\tLoss: 0.091426\n",
            "Train Epoch: 3 [21760/60000]\tLoss: 0.129968\n",
            "Train Epoch: 3 [22400/60000]\tLoss: 0.144636\n",
            "Train Epoch: 3 [23040/60000]\tLoss: 0.116890\n",
            "Train Epoch: 3 [23680/60000]\tLoss: 0.185620\n",
            "Train Epoch: 3 [24320/60000]\tLoss: 0.250860\n",
            "Train Epoch: 3 [24960/60000]\tLoss: 0.247081\n",
            "Train Epoch: 3 [25600/60000]\tLoss: 0.249653\n",
            "Train Epoch: 3 [26240/60000]\tLoss: 0.069935\n",
            "Train Epoch: 3 [26880/60000]\tLoss: 0.262408\n",
            "Train Epoch: 3 [27520/60000]\tLoss: 0.125400\n",
            "Train Epoch: 3 [28160/60000]\tLoss: 0.173878\n",
            "Train Epoch: 3 [28800/60000]\tLoss: 0.206328\n",
            "Train Epoch: 3 [29440/60000]\tLoss: 0.231511\n",
            "Train Epoch: 3 [30080/60000]\tLoss: 0.285063\n",
            "Train Epoch: 3 [30720/60000]\tLoss: 0.148826\n",
            "Train Epoch: 3 [31360/60000]\tLoss: 0.029434\n",
            "Train Epoch: 3 [32000/60000]\tLoss: 0.186215\n",
            "Train Epoch: 3 [32640/60000]\tLoss: 0.200121\n",
            "Train Epoch: 3 [33280/60000]\tLoss: 0.063412\n",
            "Train Epoch: 3 [33920/60000]\tLoss: 0.123823\n",
            "Train Epoch: 3 [34560/60000]\tLoss: 0.078137\n",
            "Train Epoch: 3 [35200/60000]\tLoss: 0.103290\n",
            "Train Epoch: 3 [35840/60000]\tLoss: 0.201266\n",
            "Train Epoch: 3 [36480/60000]\tLoss: 0.210502\n",
            "Train Epoch: 3 [37120/60000]\tLoss: 0.074756\n",
            "Train Epoch: 3 [37760/60000]\tLoss: 0.247429\n",
            "Train Epoch: 3 [38400/60000]\tLoss: 0.075719\n",
            "Train Epoch: 3 [39040/60000]\tLoss: 0.281778\n",
            "Train Epoch: 3 [39680/60000]\tLoss: 0.137511\n",
            "Train Epoch: 3 [40320/60000]\tLoss: 0.092576\n",
            "Train Epoch: 3 [40960/60000]\tLoss: 0.175182\n",
            "Train Epoch: 3 [41600/60000]\tLoss: 0.182458\n",
            "Train Epoch: 3 [42240/60000]\tLoss: 0.054036\n",
            "Train Epoch: 3 [42880/60000]\tLoss: 0.087289\n",
            "Train Epoch: 3 [43520/60000]\tLoss: 0.116983\n",
            "Train Epoch: 3 [44160/60000]\tLoss: 0.117305\n",
            "Train Epoch: 3 [44800/60000]\tLoss: 0.213038\n",
            "Train Epoch: 3 [45440/60000]\tLoss: 0.118977\n",
            "Train Epoch: 3 [46080/60000]\tLoss: 0.102315\n",
            "Train Epoch: 3 [46720/60000]\tLoss: 0.232103\n",
            "Train Epoch: 3 [47360/60000]\tLoss: 0.177144\n",
            "Train Epoch: 3 [48000/60000]\tLoss: 0.175936\n",
            "Train Epoch: 3 [48640/60000]\tLoss: 0.164267\n",
            "Train Epoch: 3 [49280/60000]\tLoss: 0.092782\n",
            "Train Epoch: 3 [49920/60000]\tLoss: 0.306549\n",
            "Train Epoch: 3 [50560/60000]\tLoss: 0.218014\n",
            "Train Epoch: 3 [51200/60000]\tLoss: 0.151859\n",
            "Train Epoch: 3 [51840/60000]\tLoss: 0.213094\n",
            "Train Epoch: 3 [52480/60000]\tLoss: 0.109836\n",
            "Train Epoch: 3 [53120/60000]\tLoss: 0.170047\n",
            "Train Epoch: 3 [53760/60000]\tLoss: 0.236136\n",
            "Train Epoch: 3 [54400/60000]\tLoss: 0.260955\n",
            "Train Epoch: 3 [55040/60000]\tLoss: 0.116507\n",
            "Train Epoch: 3 [55680/60000]\tLoss: 0.074137\n",
            "Train Epoch: 3 [56320/60000]\tLoss: 0.083767\n",
            "Train Epoch: 3 [56960/60000]\tLoss: 0.282593\n",
            "Train Epoch: 3 [57600/60000]\tLoss: 0.362073\n",
            "Train Epoch: 3 [58240/60000]\tLoss: 0.130845\n",
            "Train Epoch: 3 [58880/60000]\tLoss: 0.104815\n",
            "Train Epoch: 3 [59520/60000]\tLoss: 0.308739\n",
            "\n",
            "Test set: Avg. loss: 0.0770, Accuracy: 9772/10000 (98%)\n",
            "\n"
          ]
        }
      ]
    },
    {
      "cell_type": "code",
      "source": [
        "# Run network on data we got before and show predictions\n",
        "output = model(example_data)\n",
        "\n",
        "fig = plt.figure()\n",
        "for i in range(10):\n",
        "  plt.subplot(5,5,i+1)\n",
        "  plt.tight_layout()\n",
        "  plt.imshow(example_data[i][0], cmap='gray', interpolation='none')\n",
        "  plt.title(\"Prediction: {}\".format(\n",
        "    output.data.max(1, keepdim=True)[1][i].item()))\n",
        "  plt.xticks([])\n",
        "  plt.yticks([])\n",
        "plt.show()"
      ],
      "metadata": {
        "id": "o7fRUAy9Se1B",
        "colab": {
          "base_uri": "https://localhost:8080/",
          "height": 207
        },
        "outputId": "c68f7acf-c55a-4f0c-c755-29dc7945bb6f"
      },
      "execution_count": 16,
      "outputs": [
        {
          "output_type": "display_data",
          "data": {
            "text/plain": [
              "<Figure size 640x480 with 10 Axes>"
            ],
            "image/png": "[encoded data removed]"
          },
          "metadata": {}
        }
      ]
    }
  ]
}